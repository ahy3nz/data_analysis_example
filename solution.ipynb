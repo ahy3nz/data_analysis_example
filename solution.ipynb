{
 "cells": [
  {
   "cell_type": "markdown",
   "metadata": {},
   "source": [
    "# Generating the solution figure\n"
   ]
  },
  {
   "cell_type": "code",
   "execution_count": 2,
   "metadata": {},
   "outputs": [],
   "source": [
    "%matplotlib inline\n",
    "import numpy as np\n",
    "import matplotlib.pyplot as plt\n",
    "\n"
   ]
  },
  {
   "cell_type": "markdown",
   "metadata": {},
   "source": [
    "First, we need to load the text into a data structure. \n",
    "\n",
    "Numpy provides useful functionality, especially since we can ignore reading certain lines based on `comments`"
   ]
  },
  {
   "cell_type": "code",
   "execution_count": 3,
   "metadata": {},
   "outputs": [],
   "source": [
    "data = np.loadtxt('temp.xvg', comments=['@', '#'])\n"
   ]
  },
  {
   "cell_type": "markdown",
   "metadata": {},
   "source": [
    "From the data gathered from the simulation, we can compute the mean and standard deviation of these distributions.\n",
    "\n",
    "We will be determining if the temperature distribution, with its mean and standard deviation, reflect a normal distribution with that same mean and standard deviation"
   ]
  },
  {
   "cell_type": "code",
   "execution_count": 4,
   "metadata": {},
   "outputs": [],
   "source": [
    "mean = np.mean(data[:,1])\n",
    "std = np.std(data[:,1])\n",
    "normal_dist = np.random.normal(loc=mean, scale=std,size=5000)\n"
   ]
  },
  {
   "cell_type": "markdown",
   "metadata": {},
   "source": [
    "This next step is the plotting. Notice that there is a command for each set of data we want to plot (`ax.hist()`).\n",
    "\n",
    "For controlling other parts of the plot, we can call various `set` commands. The arguments for `set_xticks` and `set_xticklabels` is just a list of values and strings (respectively), which tell matplotlib where to put the tick marks and what they shold be labeled as.\n",
    "\n",
    "Matplotlib supports LaTeX-style strings and formulas. The \"$\"s tell matplotlib to interpret the contents as mathematical expressions, with mathematical symbols expressed as a command beginning with \"\\\"."
   ]
  },
  {
   "cell_type": "code",
   "execution_count": 5,
   "metadata": {},
   "outputs": [
    {
     "data": {
      "image/png": "[encoded data removed]",
      "text/plain": [
       "<matplotlib.figure.Figure at 0x7ff42e3c5c88>"
      ]
     },
     "metadata": {},
     "output_type": "display_data"
    }
   ],
   "source": [
    "fig, ax = plt.subplots(1,1)\n",
    "ax.hist(data[:,1], density=True, alpha=0.6, label='Temperature Distribution')\n",
    "ax.hist(normal_dist,density=True, alpha=0.6, label=\"Normal Distribution\")\n",
    "ax.set_xticks([mean-3*std, mean-2*std, mean-std, mean, mean+std, mean+2*std, mean+3*std])\n",
    "ax.set_xticklabels(['$\\mu-3\\sigma$', '$\\mu - 2\\sigma$', '$\\mu - \\sigma$', '$\\mu$', '$\\mu + \\sigma$', '$\\mu + 2\\sigma$', '$\\mu + 3\\sigma$'])\n",
    "ax.legend()\n",
    "ax.set_ylabel(\"Probability\")\n",
    "ax.set_xlabel(\"Temperature\")\n",
    "ax.set_title(\"$\\mu={:3.1f} K, \\sigma={:3.2f} K$\".format(mean, std))\n",
    "fig.tight_layout()\n",
    "fig.savefig('solution.png')"
   ]
  },
  {
   "cell_type": "code",
   "execution_count": null,
   "metadata": {},
   "outputs": [],
   "source": []
  }
 ],
 "metadata": {
  "kernelspec": {
   "display_name": "Python 3",
   "language": "python",
   "name": "python3"
  },
  "language_info": {
   "codemirror_mode": {
    "name": "ipython",
    "version": 3
   },
   "file_extension": ".py",
   "mimetype": "text/x-python",
   "name": "python",
   "nbconvert_exporter": "python",
   "pygments_lexer": "ipython3",
   "version": "3.6.4"
  }
 },
 "nbformat": 4,
 "nbformat_minor": 2
}
